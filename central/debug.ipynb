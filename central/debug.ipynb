{
 "cells": [
  {
   "cell_type": "code",
   "execution_count": 1,
   "metadata": {},
   "outputs": [],
   "source": [
    "import warnings\n",
    "warnings.filterwarnings(\"ignore\")\n",
    "import socket,time,math,argparse\n",
    "import numpy as np\n",
    "from functions import processCentroids_calib,cameraMatrix_cam1,cameraMatrix_cam2,distCoef_cam1,distCoef_cam2\n",
    "from cv2 import circle,putText,imshow,waitKey,FONT_HERSHEY_SIMPLEX,destroyAllWindows,triangulatePoints,moveWindow,imwrite\n",
    "from myLib import isCollinear,isEqual,swapElements,getSignal,getOrder,reshapeCoord,findNearestC\n",
    "import matplotlib.pyplot as plt\n",
    "from mpl_toolkits.mplot3d import Axes3D\n",
    "from scipy.interpolate import CubicSpline\n",
    "import os\n"
   ]
  },
  {
   "cell_type": "code",
   "execution_count": 2,
   "metadata": {},
   "outputs": [
    {
     "name": "stdout",
     "output_type": "stream",
     "text": [
      "Maximum captured timestamp: 117.93 seconds\n",
      "#4594 frames were captured\n"
     ]
    }
   ],
   "source": [
    "df1,df2 = np.genfromtxt('cam1.csv', delimiter=','),np.genfromtxt('cam2.csv', delimiter=',')\n",
    "maxTime,maxFrame = max(df1[-1][-2],df2[-1][-2]),max(df1[-1][-1],df2[-1][-1])\n",
    "print('Maximum captured timestamp: '+str(round(maxTime/1e6,2))+' seconds')\n",
    "print('#'+str(int(maxFrame))+' frames were captured')\n",
    "data = [[],[]]"
   ]
  },
  {
   "cell_type": "code",
   "execution_count": 3,
   "metadata": {},
   "outputs": [],
   "source": [
    "def orderCenterCoord(centerCoord, prevCenterCoord, otherCamOrder = 0):\n",
    "    centerX, centerY = reshapeCoord(centerCoord)\n",
    "    # if it is the first image of the sequence\n",
    "    if len(prevCenterCoord) == 0:  \n",
    "        order,_ =  getOrder(centerX,centerY)  \n",
    "        # if it is the second camera\n",
    "        if otherCamOrder != 0:  \n",
    "            # if the markers are wrong, swap the extremities\n",
    "            signal, valid = getSignal(centerX[order[0]], centerX[order[2]],5)\n",
    "            if signal != otherCamOrder and valid: order = swapElements(order, 0, 2)    \n",
    "        else:        \n",
    "            # get base for comparision (first camera only)        \n",
    "            otherCamOrder,_ = getSignal(centerX[order[0]], centerX[order[2]])\n",
    "        # sort centers        \n",
    "        if np.linalg.norm(centerX[order[0]]-centerX[order[1]])>np.linalg.norm(centerX[order[2]]-centerX[order[1]]):\n",
    "            sortedCenterCoord = np.array((centerCoord[order[0]], centerCoord[order[1]], centerCoord[order[2]]))\n",
    "        else: sortedCenterCoord = np.array((centerCoord[order[2]], centerCoord[order[1]], centerCoord[order[0]]))\n",
    "    else:\n",
    "        # first reshape array of coordinates\n",
    "        prevCenterX,prevCenterY = reshapeCoord(prevCenterCoord)\n",
    "        # distance from marker A/B of previous img to center coordiantes of actual img\n",
    "        distA = np.sqrt(np.power(np.subtract(prevCenterX[0], centerX), 2) + np.power(np.subtract(prevCenterY[0], centerY), 2))\n",
    "        distB = np.sqrt(np.power(np.subtract(prevCenterX[1], centerX), 2) + np.power(np.subtract(prevCenterY[1], centerY), 2))\n",
    "        # nearest marker from A is selected and removed as marker B candidate\n",
    "        nearestA = np.argmin(distA)\n",
    "        distBCopy = np.delete(distB, nearestA)\n",
    "        # nearest marker from B is selected and removed as marker C candidate\n",
    "        nearestBCopy = np.argmin(distBCopy)\n",
    "        nearestB, = np.where(distB == distBCopy[nearestBCopy])\n",
    "        distBCopy = np.delete(distBCopy, nearestBCopy)\n",
    "        # get the missing marker position in array\n",
    "        nearestC = findNearestC(nearestA, nearestB[0])\n",
    "        # sort centers        \n",
    "        sortedCenterCoord = [centerCoord[nearestA], centerCoord[nearestB[0]], centerCoord[nearestC]]\n",
    "        # check if the ordering is ok\n",
    "        centerX, centerY = reshapeCoord(sortedCenterCoord)\n",
    "        prevOrder,axisPrev = getOrder(prevCenterX,prevCenterY)\n",
    "        order,_ =  getOrder(centerX,centerY,baseAxis=True,axis=axisPrev)\n",
    "        if (order[1] != 1) or (order[2] != prevOrder[2]):\n",
    "            if prevOrder[0] == 2: order = swapElements(order,0,2) #if is decreasing, swap                \n",
    "            sortedCenterCoord = np.array((sortedCenterCoord[order[0]], sortedCenterCoord[order[1]], sortedCenterCoord[order[2]]))\n",
    "    return sortedCenterCoord, otherCamOrder"
   ]
  },
  {
   "cell_type": "code",
   "execution_count": 4,
   "metadata": {},
   "outputs": [
    {
     "name": "stdout",
     "output_type": "stream",
     "text": [
      "Done camera #1\n"
     ]
    }
   ],
   "source": [
    "os.system('rm -rf pics\\cam1\\*jpg')\n",
    "invalid,lastValid,tol,swap,certainty,counter,lastValid_i=0,0,0.25,0,False,0,0\n",
    "intervals,valid,jump=[],[],[]\n",
    "for i in range(0,df1.shape[0]):\n",
    "    # get points and check invalidity sequence\n",
    "    pts,imgNumb = df1[i][0:6].reshape(-1,2),int(df1[i][-1])\n",
    "    if imgNumb>lastValid+1: invalid = imgNumb-lastValid\n",
    "    # order markers per proximity and check collinearity\n",
    "    if isCollinear(*pts) and not isEqual(pts) or np.any(pts<0):     \n",
    "        if invalid>=10 or not counter: \n",
    "            if not certainty and counter: valid[-1]=False\n",
    "            prev,certainty = [],False\n",
    "            intervals.append(i)\n",
    "            valid.append(True)\n",
    "        else: prev = np.array(df1[lastValid_i][0:6]).reshape(1,-2)\n",
    "        pts, _ = orderCenterCoord(pts,prev)\n",
    "        pts = np.array(pts)\n",
    "    else: \n",
    "        jump.append(imgNumb)\n",
    "        invalid+=1\n",
    "        continue\n",
    "    # update internal loop variables\n",
    "    lastValid,invalid,lastValid_i=imgNumb,0,i\n",
    "    counter+=1\n",
    "    df1[i][0:6] = np.copy(pts).reshape(-1,6)\n",
    "    # check if ABC is in order smaller to largest\n",
    "    # if 2 consecutive trues, invert all df until interval beginning\n",
    "    if not certainty:\n",
    "        for [A,B,C] in pts.reshape([-1, 3, 2]):\n",
    "            if np.linalg.norm(C-B)/np.linalg.norm(A-B)>(2-tol) and np.linalg.norm(C-B)>20:\n",
    "                swap += 1\n",
    "                if swap>5: df1[intervals[-1]:i][0:2],df1[intervals[-1]:i][4:6],swap,certainty = df1[intervals[-1]:i][4:6],df1[intervals[-1]:i][0:2],0,True\n",
    "            if np.linalg.norm(A-B)/np.linalg.norm(C-B)>(2-tol) and np.linalg.norm(A-B)>20: certainty = True\n",
    "    #if not i%100: print(i)\n",
    "intervals.append(i)\n",
    "\n",
    "for i in range(0,len(intervals)-1):\n",
    "    if not valid[i]: continue\n",
    "    beg,end = intervals[i],intervals[i+1]\n",
    "    for j in range(beg,end):\n",
    "        pts,imgNumb,img,k = df1[j][0:6].reshape(-1,2),int(df1[j][-1]),np.ones((540,960,3))*255,0\n",
    "        if imgNumb in jump: continue\n",
    "        data[0].append(np.hstack((pts.reshape(-1),df1[j][-2]/1e6)))\n",
    "        ### VERBOSE\n",
    "        for k in range(0,3):\n",
    "            pt = pts.reshape(-1,2)[k]\n",
    "            center = (int(np.round(pt[0]*16)),int(np.round(pt[1]*16)))\n",
    "            circle(img,center,10,(255,0,0),5,shift=4)\n",
    "            putText(img,str(k),(int(center[0]/16)-25, int(center[1]/16)-25),FONT_HERSHEY_SIMPLEX,0.5,(255,0,0),2) \n",
    "        imwrite('pics/cam1/'+str(imgNumb).zfill(4)+'.jpg',img)\n",
    "print('Done camera #1')"
   ]
  },
  {
   "cell_type": "code",
   "execution_count": 5,
   "metadata": {},
   "outputs": [
    {
     "name": "stdout",
     "output_type": "stream",
     "text": [
      "Done camera #2\n"
     ]
    }
   ],
   "source": [
    "os.system('rm -rf pics\\cam2\\*jpg')\n",
    "invalid,lastValid,tol,swap,certainty,counter,lastValid_i=0,0,0.25,0,False,0,0\n",
    "intervals,valid,jump=[],[],[]\n",
    "for i in range(0,df2.shape[0]):\n",
    "    # get points and check invalidity sequence\n",
    "    pts,imgNumb = df2[i][0:6].reshape(-1,2),int(df2[i][-1])\n",
    "    if imgNumb>lastValid+1: invalid = imgNumb-lastValid\n",
    "    # order markers per proximity and check collinearity\n",
    "    if isCollinear(*pts) and not isEqual(pts) or np.any(pts<0):     \n",
    "        if invalid>=10 or not counter: \n",
    "            if not certainty and counter: valid[-1]=False\n",
    "            prev,certainty = [],False\n",
    "            intervals.append(i)\n",
    "            valid.append(True)\n",
    "        else: prev = np.array(df2[lastValid_i][0:6]).reshape(1,-2)\n",
    "        pts, _ = orderCenterCoord(pts,prev)\n",
    "        pts = np.array(pts)\n",
    "    else: \n",
    "        jump.append(imgNumb)\n",
    "        invalid+=1\n",
    "        continue\n",
    "    # update internal loop variables\n",
    "    lastValid,invalid,lastValid_i=imgNumb,0,i\n",
    "    counter+=1\n",
    "    df2[i][0:6] = np.copy(pts).reshape(-1,6)\n",
    "    # check if ABC is in order smaller to largest\n",
    "    # if 2 consecutive trues, invert all df until interval beginning\n",
    "    if not certainty:\n",
    "        for [A,B,C] in pts.reshape([-1, 3, 2]):\n",
    "            if np.linalg.norm(C-B)/np.linalg.norm(A-B)>(2-tol) and np.linalg.norm(C-B)>20:\n",
    "                swap += 1\n",
    "                if swap>5: df2[intervals[-1]:i][0:2],df2[intervals[-1]:i][4:6],swap,certainty = df2[intervals[-1]:i][4:6],df2[intervals[-1]:i][0:2],0,True\n",
    "            if np.linalg.norm(A-B)/np.linalg.norm(C-B)>(2-tol) and np.linalg.norm(A-B)>20: certainty = True\n",
    "    #if not i%100: print(i)\n",
    "intervals.append(i)\n",
    "\n",
    "for i in range(0,len(intervals)-1):\n",
    "    if not valid[i]: continue\n",
    "    beg,end = intervals[i],intervals[i+1]\n",
    "    for j in range(beg,end):\n",
    "        pts,imgNumb,img,k = df2[j][0:6].reshape(-1,2),int(df2[j][-1]),np.ones((540,960,3))*255,0\n",
    "        if imgNumb in jump: continue\n",
    "        data[1].append(np.hstack((pts.reshape(-1),df2[j][-2]/1e6)))\n",
    "        ### VERBOSE\n",
    "        for k in range(0,3):\n",
    "            pt = pts.reshape(-1,2)[k]\n",
    "            center = (int(np.round(pt[0]*16)),int(np.round(pt[1]*16)))\n",
    "            circle(img,center,10,(255,0,0),5,shift=4)\n",
    "            putText(img,str(k),(int(center[0]/16)-25, int(center[1]/16)-25),FONT_HERSHEY_SIMPLEX,0.5,(255,0,0),2) \n",
    "        imwrite('pics/cam2/'+str(imgNumb).zfill(4)+'.jpg',img)\n",
    "print('Done camera #2')"
   ]
  },
  {
   "cell_type": "code",
   "execution_count": 6,
   "metadata": {},
   "outputs": [],
   "source": [
    "df,lastInterp,firstInterp = np.zeros((int(120/0.01),2*6+1)),[0,0],[0,0]\n",
    "df[:,-1] = np.linspace(0,120,int(120/0.01))\n",
    "\n",
    "coord,time = np.array(data[0])[:,0:6],np.array(data[0])[:,6]\n",
    "lowBound,highBound = math.ceil(time[0]/0.01),math.floor(time[-1]/0.01)\n",
    "tNew = np.linspace(lowBound,highBound,int((highBound-lowBound))+1,dtype=np.uint16)\n",
    "ff = CubicSpline(time,coord,axis=0)\n",
    "df[tNew,int(0*6):int(0*6+6)],lastInterp[0],firstInterp[0] = ff(tNew*0.01),tNew[-1],tNew[0]\n",
    "\n",
    "coord,time = np.array(data[1])[:,0:6],np.array(data[1])[:,6]\n",
    "lowBound,highBound = math.ceil(time[0]/0.01),math.floor(time[-1]/0.01)\n",
    "tNew = np.linspace(lowBound,highBound,int((highBound-lowBound))+1,dtype=np.uint16)\n",
    "ff = CubicSpline(time,coord,axis=0)\n",
    "df[tNew,int(1*6):int(1*6+6)],lastInterp[1],firstInterp[1] = ff(tNew*0.01),tNew[-1],tNew[0]"
   ]
  },
  {
   "cell_type": "code",
   "execution_count": 7,
   "metadata": {},
   "outputs": [],
   "source": [
    "a,b,hasPrevious,centroids1,centroids2 = np.max(firstInterp),np.min(lastInterp),False,[],[]\n",
    "pts1,pts2 = np.copy(df[int(a):int(b),int(0*6):int(0*6+6)]),np.copy(df[int(a):int(b),int(1*6):int(1*6+6)])\n",
    "for i in range(int(b-a)):    \n",
    "    if not hasPrevious: centroids1,centroids2 = np.copy(pts1[i].reshape(-1,2)),np.copy(pts2[i].reshape(-1,2))\n",
    "    else: centroids1,centroids2 = np.vstack((centroids1, pts1[i].reshape(-1,2))),np.vstack((centroids2, pts2[i].reshape(-1,2)))\n",
    "    hasPrevious = True"
   ]
  },
  {
   "cell_type": "code",
   "execution_count": 8,
   "metadata": {},
   "outputs": [],
   "source": [
    "from myLib import estimateFundMatrix_8norm,decomposeEssentialMat\n",
    "from functions import cameraMatrix_cam1,cameraMatrix_cam2\n",
    "# get fundamental and essential matrices\n",
    "F,_ = estimateFundMatrix_8norm(np.array(centroids1),np.array(centroids2))\n",
    "E = np.matmul(cameraMatrix_cam2.T, np.matmul(F, cameraMatrix_cam1))\n",
    "print(\"\\nEssenc. Mat.\\n\", E.round(4))\n",
    "# decompose to rotation and translation between cameras\n",
    "R, t = decomposeEssentialMat(E, cameraMatrix_cam1, cameraMatrix_cam2, np.array(centroids1), np.array(centroids2))\n",
    "if np.any(np.isnan(R)): print('no valid rotation matrix')"
   ]
  }
 ],
 "metadata": {
  "interpreter": {
   "hash": "916dbcbb3f70747c44a77c7bcd40155683ae19c65e1c03b4aa3499c5328201f1"
  },
  "kernelspec": {
   "display_name": "Python 3.8.10 64-bit",
   "language": "python",
   "name": "python3"
  },
  "language_info": {
   "codemirror_mode": {
    "name": "ipython",
    "version": 3
   },
   "file_extension": ".py",
   "mimetype": "text/x-python",
   "name": "python",
   "nbconvert_exporter": "python",
   "pygments_lexer": "ipython3",
   "version": "3.8.10"
  },
  "orig_nbformat": 4
 },
 "nbformat": 4,
 "nbformat_minor": 2
}

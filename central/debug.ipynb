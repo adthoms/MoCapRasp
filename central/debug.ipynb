{
 "cells": [
  {
   "cell_type": "code",
   "execution_count": 46,
   "metadata": {},
   "outputs": [],
   "source": [
    "import warnings\n",
    "warnings.filterwarnings(\"ignore\")\n",
    "import socket,time,math,argparse\n",
    "import numpy as np\n",
    "from functions import processCentroids_calib,cameraMatrix_cam1,cameraMatrix_cam2,distCoef_cam1,distCoef_cam2\n",
    "from cv2 import circle,putText,imshow,waitKey,FONT_HERSHEY_SIMPLEX,destroyAllWindows,triangulatePoints,moveWindow,imwrite\n",
    "from myLib import isCollinear,isEqual,swapElements,getSignal,getOrder,reshapeCoord,findNearestC\n",
    "import matplotlib.pyplot as plt\n",
    "from mpl_toolkits.mplot3d import Axes3D\n",
    "from scipy.interpolate import CubicSpline\n",
    "import os\n"
   ]
  },
  {
   "cell_type": "code",
   "execution_count": 47,
   "metadata": {},
   "outputs": [
    {
     "name": "stdout",
     "output_type": "stream",
     "text": [
      "Maximum captured timestamp: 117.93 seconds\n",
      "#4594 frames were captured\n"
     ]
    }
   ],
   "source": [
    "df1,df2 = np.genfromtxt('cam1.csv', delimiter=','),np.genfromtxt('cam2.csv', delimiter=',')\n",
    "maxTime,maxFrame = max(df1[-1][-2],df2[-1][-2]),max(df1[-1][-1],df2[-1][-1])\n",
    "print('Maximum captured timestamp: '+str(round(maxTime/1e6,2))+' seconds')\n",
    "print('#'+str(int(maxFrame))+' frames were captured')"
   ]
  },
  {
   "cell_type": "code",
   "execution_count": 48,
   "metadata": {},
   "outputs": [],
   "source": [
    "def orderCenterCoord(centerCoord, prevCenterCoord, otherCamOrder = 0):\n",
    "    centerX, centerY = reshapeCoord(centerCoord)\n",
    "    # if it is the first image of the sequence\n",
    "    if len(prevCenterCoord) == 0:  \n",
    "        order,_ =  getOrder(centerX,centerY)  \n",
    "        # if it is the second camera\n",
    "        if otherCamOrder != 0:  \n",
    "            # if the markers are wrong, swap the extremities\n",
    "            signal, valid = getSignal(centerX[order[0]], centerX[order[2]],5)\n",
    "            if signal != otherCamOrder and valid: order = swapElements(order, 0, 2)    \n",
    "        else:        \n",
    "            # get base for comparision (first camera only)        \n",
    "            otherCamOrder,_ = getSignal(centerX[order[0]], centerX[order[2]])\n",
    "        # sort centers        \n",
    "        if np.linalg.norm(centerX[order[0]]-centerX[order[1]])>np.linalg.norm(centerX[order[2]]-centerX[order[1]]):\n",
    "            sortedCenterCoord = np.array((centerCoord[order[0]], centerCoord[order[1]], centerCoord[order[2]]))\n",
    "        else: sortedCenterCoord = np.array((centerCoord[order[2]], centerCoord[order[1]], centerCoord[order[0]]))\n",
    "    else:\n",
    "        # first reshape array of coordinates\n",
    "        prevCenterX,prevCenterY = reshapeCoord(prevCenterCoord)\n",
    "        # distance from marker A/B of previous img to center coordiantes of actual img\n",
    "        distA = np.sqrt(np.power(np.subtract(prevCenterX[0], centerX), 2) + np.power(np.subtract(prevCenterY[0], centerY), 2))\n",
    "        distB = np.sqrt(np.power(np.subtract(prevCenterX[1], centerX), 2) + np.power(np.subtract(prevCenterY[1], centerY), 2))\n",
    "        # nearest marker from A is selected and removed as marker B candidate\n",
    "        nearestA = np.argmin(distA)\n",
    "        distBCopy = np.delete(distB, nearestA)\n",
    "        # nearest marker from B is selected and removed as marker C candidate\n",
    "        nearestBCopy = np.argmin(distBCopy)\n",
    "        nearestB, = np.where(distB == distBCopy[nearestBCopy])\n",
    "        distBCopy = np.delete(distBCopy, nearestBCopy)\n",
    "        # get the missing marker position in array\n",
    "        nearestC = findNearestC(nearestA, nearestB[0])\n",
    "        # sort centers        \n",
    "        sortedCenterCoord = [centerCoord[nearestA], centerCoord[nearestB[0]], centerCoord[nearestC]]\n",
    "        # check if the ordering is ok\n",
    "        centerX, centerY = reshapeCoord(sortedCenterCoord)\n",
    "        prevOrder,axisPrev = getOrder(prevCenterX,prevCenterY)\n",
    "        order,_ =  getOrder(centerX,centerY,baseAxis=True,axis=axisPrev)\n",
    "        if (order[1] != 1) or (order[2] != prevOrder[2]):\n",
    "            if prevOrder[0] == 2: order = swapElements(order,0,2) #if is decreasing, swap                \n",
    "            sortedCenterCoord = np.array((sortedCenterCoord[order[0]], sortedCenterCoord[order[1]], sortedCenterCoord[order[2]]))\n",
    "    return sortedCenterCoord, otherCamOrder"
   ]
  },
  {
   "cell_type": "code",
   "execution_count": 49,
   "metadata": {},
   "outputs": [
    {
     "name": "stdout",
     "output_type": "stream",
     "text": [
      "Done camera #1\n"
     ]
    }
   ],
   "source": [
    "os.system('del pics\\cam1\\*jpg')\n",
    "invalid,lastValid,tol,swap,certainty,counter,lastValid_i=0,0,0.25,0,False,0,0\n",
    "intervals,valid,jump=[],[],[]\n",
    "for i in range(0,df1.shape[0]):\n",
    "    # get points and check invalidity sequence\n",
    "    pts,imgNumb = df1[i][0:6].reshape(-1,2),int(df1[i][-1])\n",
    "    if imgNumb>lastValid+1: invalid = imgNumb-lastValid\n",
    "    # order markers per proximity and check collinearity\n",
    "    if isCollinear(*pts) and not isEqual(pts) or np.any(pts<0):     \n",
    "        if invalid>=10 or not counter: \n",
    "            if not certainty and counter: valid[-1]=False\n",
    "            prev,certainty = [],False\n",
    "            intervals.append(i)\n",
    "            valid.append(True)\n",
    "        else: prev = np.array(df1[lastValid_i][0:6]).reshape(1,-2)\n",
    "        pts, _ = orderCenterCoord(pts,prev)\n",
    "        pts = np.array(pts)\n",
    "    else: \n",
    "        jump.append(imgNumb)\n",
    "        invalid+=1\n",
    "        continue\n",
    "    # update internal loop variables\n",
    "    lastValid,invalid,lastValid_i=imgNumb,0,i\n",
    "    counter+=1\n",
    "    df1[i][0:6] = np.copy(pts).reshape(-1,6)\n",
    "    # check if ABC is in order smaller to largest\n",
    "    # if 2 consecutive trues, invert all df until interval beginning\n",
    "    if not certainty:\n",
    "        for [A,B,C] in pts.reshape([-1, 3, 2]):\n",
    "            if np.linalg.norm(C-B)/np.linalg.norm(A-B)>(2-tol) and np.linalg.norm(C-B)>20:\n",
    "                swap += 1\n",
    "                if swap>5: df1[intervals[-1]:i][0:2],df1[intervals[-1]:i][4:6],swap,certainty = df1[intervals[-1]:i][4:6],df1[intervals[-1]:i][0:2],0,True\n",
    "            if np.linalg.norm(A-B)/np.linalg.norm(C-B)>(2-tol) and np.linalg.norm(A-B)>20: certainty = True\n",
    "    #if not i%100: print(i)\n",
    "intervals.append(i)\n",
    "\n",
    "for i in range(0,len(intervals)-1):\n",
    "    if not valid[i]: continue\n",
    "    beg,end = intervals[i],intervals[i+1]\n",
    "    ### VERBOSE\n",
    "    for j in range(beg,end):\n",
    "        pts,imgNumb,img,k = df1[j][0:6].reshape(-1,2),int(df1[j][-1]),np.ones((540,960,3))*255,0\n",
    "        if imgNumb in jump: continue\n",
    "        for k in range(0,3):\n",
    "            pt = pts.reshape(-1,2)[k]\n",
    "            center = (int(np.round(pt[0]*16)),int(np.round(pt[1]*16)))\n",
    "            circle(img,center,10,(255,0,0),5,shift=4)\n",
    "            putText(img,str(k),(int(center[0]/16)-25, int(center[1]/16)-25),FONT_HERSHEY_SIMPLEX,0.5,(255,0,0),2) \n",
    "        imwrite('pics/cam1/'+str(imgNumb).zfill(4)+'.jpg',img)\n",
    "print('Done camera #1')"
   ]
  },
  {
   "cell_type": "code",
   "execution_count": 50,
   "metadata": {},
   "outputs": [
    {
     "name": "stdout",
     "output_type": "stream",
     "text": [
      "Done camera #2\n"
     ]
    }
   ],
   "source": [
    "os.system('del pics\\cam2\\*jpg')\n",
    "invalid,lastValid,tol,swap,certainty,counter,lastValid_i=0,0,0.25,0,False,0,0\n",
    "intervals,valid,jump=[],[],[]\n",
    "for i in range(0,df2.shape[0]):\n",
    "    # get points and check invalidity sequence\n",
    "    pts,imgNumb = df2[i][0:6].reshape(-1,2),int(df2[i][-1])\n",
    "    if imgNumb>lastValid+1: invalid = imgNumb-lastValid\n",
    "    # order markers per proximity and check collinearity\n",
    "    if isCollinear(*pts) and not isEqual(pts) or np.any(pts<0):     \n",
    "        if invalid>=10 or not counter: \n",
    "            if not certainty and counter: valid[-1]=False\n",
    "            prev,certainty = [],False\n",
    "            intervals.append(i)\n",
    "            valid.append(True)\n",
    "        else: prev = np.array(df2[lastValid_i][0:6]).reshape(1,-2)\n",
    "        pts, _ = orderCenterCoord(pts,prev)\n",
    "        pts = np.array(pts)\n",
    "    else: \n",
    "        jump.append(imgNumb)\n",
    "        invalid+=1\n",
    "        continue\n",
    "    # update internal loop variables\n",
    "    lastValid,invalid,lastValid_i=imgNumb,0,i\n",
    "    counter+=1\n",
    "    df2[i][0:6] = np.copy(pts).reshape(-1,6)\n",
    "    # check if ABC is in order smaller to largest\n",
    "    # if 2 consecutive trues, invert all df until interval beginning\n",
    "    if not certainty:\n",
    "        for [A,B,C] in pts.reshape([-1, 3, 2]):\n",
    "            if np.linalg.norm(C-B)/np.linalg.norm(A-B)>(2-tol) and np.linalg.norm(C-B)>20:\n",
    "                swap += 1\n",
    "                if swap>5: df2[intervals[-1]:i][0:2],df2[intervals[-1]:i][4:6],swap,certainty = df2[intervals[-1]:i][4:6],df2[intervals[-1]:i][0:2],0,True\n",
    "            if np.linalg.norm(A-B)/np.linalg.norm(C-B)>(2-tol) and np.linalg.norm(A-B)>20: certainty = True\n",
    "    #if not i%100: print(i)\n",
    "intervals.append(i)\n",
    "\n",
    "for i in range(0,len(intervals)-1):\n",
    "    if not valid[i]: continue\n",
    "    beg,end = intervals[i],intervals[i+1]\n",
    "    ### VERBOSE\n",
    "    for j in range(beg,end):\n",
    "        pts,imgNumb,img,k = df2[j][0:6].reshape(-1,2),int(df2[j][-1]),np.ones((540,960,3))*255,0\n",
    "        if imgNumb in jump: continue\n",
    "        for k in range(0,3):\n",
    "            pt = pts.reshape(-1,2)[k]\n",
    "            center = (int(np.round(pt[0]*16)),int(np.round(pt[1]*16)))\n",
    "            circle(img,center,10,(255,0,0),5,shift=4)\n",
    "            putText(img,str(k),(int(center[0]/16)-25, int(center[1]/16)-25),FONT_HERSHEY_SIMPLEX,0.5,(255,0,0),2) \n",
    "        imwrite('pics/cam2/'+str(imgNumb).zfill(4)+'.jpg',img)\n",
    "print('Done camera #2')"
   ]
  }
 ],
 "metadata": {
  "interpreter": {
   "hash": "b387a813f26c1f30376f65ed003917ba8fadeec0d60670d91f0f29041f225819"
  },
  "kernelspec": {
   "display_name": "Python 3.9.12 64-bit (windows store)",
   "language": "python",
   "name": "python3"
  },
  "language_info": {
   "codemirror_mode": {
    "name": "ipython",
    "version": 3
   },
   "file_extension": ".py",
   "mimetype": "text/x-python",
   "name": "python",
   "nbconvert_exporter": "python",
   "pygments_lexer": "ipython3",
   "version": "3.9.12"
  },
  "orig_nbformat": 4
 },
 "nbformat": 4,
 "nbformat_minor": 2
}
